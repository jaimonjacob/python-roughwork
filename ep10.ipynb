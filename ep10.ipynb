{
  "nbformat": 4,
  "nbformat_minor": 0,
  "metadata": {
    "colab": {
      "provenance": [],
      "mount_file_id": "1bvpSpdU3meCFyCsn-oR1dgW5OrhDur_J",
      "authorship_tag": "ABX9TyM7V1xM14fwX532JE6xd5nA",
      "include_colab_link": true
    },
    "kernelspec": {
      "name": "python3",
      "display_name": "Python 3"
    },
    "language_info": {
      "name": "python"
    }
  },
  "cells": [
    {
      "cell_type": "markdown",
      "metadata": {
        "id": "view-in-github",
        "colab_type": "text"
      },
      "source": [
        "<a href=\"https://colab.research.google.com/github/jaimonjacob/python-roughwork/blob/main/ep10.ipynb\" target=\"_parent\"><img src=\"https://colab.research.google.com/assets/colab-badge.svg\" alt=\"Open In Colab\"/></a>"
      ]
    },
    {
      "cell_type": "code",
      "source": [
        "# Get the number from json file if the file exists\n",
        "# If the file doest exist, create a file and take the input for the fav number from the user and store in teh file\n",
        "import json\n",
        "\n",
        "file_name = '/content/test.json'\n",
        "\n",
        "def get_number():\n",
        "  '''Get the fav number if already saved'''\n",
        "  try:\n",
        "    with open(file_name) as f:\n",
        "      return json.load(f)\n",
        "  except FileNotFoundError:\n",
        "    return None\n",
        "\n",
        "def add_number():\n",
        "  '''Create a file and  save fav number'''\n",
        "  fav_num = input('You dont have a fav num saved. What is the fav num: \\n')\n",
        "  with open(file_name, 'w') as f:\n",
        "    json.dump(fav_num, f)\n",
        "  return fav_num\n",
        "\n",
        "def greet_user():\n",
        "  '''Greet the user'''\n",
        "  fav_num = get_number()\n",
        "  if fav_num:\n",
        "    print(f'Hellow again. Your saved fav num saved is {fav_num}')\n",
        "  else:\n",
        "    fav_num = add_number()\n",
        "    print(f'Your fav num saved newly is {fav_num}')\n",
        "\n",
        "greet_user()"
      ],
      "metadata": {
        "id": "Nt7PEfzQEi1A",
        "outputId": "f6f2fdcb-359e-48e9-e133-ca33278ade4b",
        "colab": {
          "base_uri": "https://localhost:8080/"
        }
      },
      "execution_count": null,
      "outputs": [
        {
          "output_type": "stream",
          "name": "stdout",
          "text": [
            "Hellow again. Your saved fav num saved is 1234\n"
          ]
        }
      ]
    }
  ]
}